{
 "cells": [
  {
   "cell_type": "code",
   "execution_count": 44,
   "id": "7a0288e9",
   "metadata": {},
   "outputs": [],
   "source": [
    "import pandas as pd\n",
    "import pathlib"
   ]
  },
  {
   "cell_type": "code",
   "execution_count": 148,
   "id": "a54b85a6",
   "metadata": {},
   "outputs": [],
   "source": [
    "#maximal e value for hmmsearch can be modified through e value cutoff argument\n",
    "def combine_annotations(worm, e_value_cutoff=0.001):\n",
    "    # read eggnogg annotation file\n",
    "    eggnogg_file = f'C:/worms/new/eggnog_mapper/{worm}/{worm}.emapper.annotations.xlsx'\n",
    "    eggnog_annotation_df = pd.read_excel(eggnogg_file)\n",
    "    print(f'Number of proteins annotated in eggnog {eggnog_annotation_df.shape[0]}')\n",
    "    hmmsearch_file = f'C:/worms/new/hmmer_results/{worm}/seq.txt'\n",
    "    contig_domains = {}\n",
    "    #save data about domains found during hmmsearch for every contig\n",
    "    with open (hmmsearch_file, 'r') as hmmsearch_data:\n",
    "        for hmm_line in hmmsearch_data:\n",
    "            if hmm_line.startswith('#'):\n",
    "                continue\n",
    "            hmm_line_list = hmm_line.split()\n",
    "            if float(hmm_line_list[4]) > e_value_cutoff:\n",
    "                continue\n",
    "            if contig_domains.get(hmm_line_list[0]) == None:\n",
    "                contig_domains[hmm_line_list[0]] = [hmm_line_list[2]]\n",
    "            else:\n",
    "                contig_domains[hmm_line_list[0]].append(hmm_line_list[2])\n",
    "    contig_domains = {contig:', '.join(domains) for contig, domains in contig_domains.items()}\n",
    "    print(f'Number of proteins with at least one hmmer annotation {len(contig_domains)}, e-value < {e_value_cutoff}')\n",
    "    eggnog_annotation_df = eggnog_annotation_df.set_index('query')\n",
    "    #combine eggnog and hmmer data\n",
    "    eggnog_annotation_df['hmmsearch_pfam_domains'] = pd.Series(contig_domains)\n",
    "    contigs_with_egg_annot = set(eggnog_annotation_df.index)\n",
    "    contigs_with_hmmer_hits = set(contig_domains.keys())\n",
    "    print(f'Number of proteins annotated only in eggnog {len(contigs_with_egg_annot.difference(contigs_with_hmmer_hits))}')\n",
    "    print(f'Number of proteins annotated only in hmmsearch {len(contigs_with_hmmer_hits.difference(contigs_with_egg_annot))}')\n",
    "    print(f'Number of proteins with double annotation {len(contigs_with_egg_annot.intersection(contigs_with_hmmer_hits))}')\n",
    "    \n",
    "    #add additional contigs that were not annotated in eggnogg but have significant domain hits in hmmsearch \n",
    "    eggnog_annotation_df.reset_index(inplace=True)\n",
    "    contigs_to_add = list(contigs_with_hmmer_hits.difference(contigs_with_egg_annot))\n",
    "    additional_contigs_domains = dict(filter(lambda item: item[0] in contigs_to_add, contig_domains.items()))\n",
    "    new_rows = {'query': [],\n",
    "         'seed_ortholog': ['-']*len(additional_contigs_domains),\n",
    "         'evalue': ['-']*len(additional_contigs_domains),\n",
    "         'score': ['-']*len(additional_contigs_domains),\n",
    "         'eggNOG_OGs': ['-']*len(additional_contigs_domains),\n",
    "         'max_annot_lvl': ['-']*len(additional_contigs_domains),\n",
    "         'COG_category': ['-']*len(additional_contigs_domains),\n",
    "         'Description': ['-']*len(additional_contigs_domains),\n",
    "         'Preferred_name': ['-']*len(additional_contigs_domains),\n",
    "         'GOs': ['-']*len(additional_contigs_domains),\n",
    "         'EC': ['-']*len(additional_contigs_domains),\n",
    "         'KEGG_ko': ['-']*len(additional_contigs_domains),\n",
    "         'KEGG_Pathway': ['-']*len(additional_contigs_domains),\n",
    "         'KEGG_Module': ['-']*len(additional_contigs_domains),\n",
    "         'KEGG_Reaction': ['-']*len(additional_contigs_domains),\n",
    "         'KEGG_rclass': ['-']*len(additional_contigs_domains),\n",
    "         'BRITE': ['-']*len(additional_contigs_domains),\n",
    "         'KEGG_TC': ['-']*len(additional_contigs_domains),\n",
    "         'CAZy': ['-']*len(additional_contigs_domains),\n",
    "         'BiGG_Reaction': ['-']*len(additional_contigs_domains),\n",
    "         'PFAMs': ['-']*len(additional_contigs_domains),\n",
    "         'hmmsearch_pfam_domains': []}\n",
    "    for contig, domains in additional_contigs_domains.items():\n",
    "        new_rows['query'].append(contig)\n",
    "        new_rows['hmmsearch_pfam_domains'].append(domains)\n",
    "    #save combined annotation file\n",
    "    pd.concat([eggnog_annotation_df, pd.DataFrame.from_dict(new_rows)])\\\n",
    "        .to_csv(f'C:/worms/new/{worm}_combined_annotation.csv', index=False, sep='\\t')"
   ]
  },
  {
   "cell_type": "code",
   "execution_count": 149,
   "id": "0511cc4d",
   "metadata": {},
   "outputs": [
    {
     "name": "stdout",
     "output_type": "stream",
     "text": [
      "Number of proteins annotated in eggnog 25008\n",
      "Number of proteins with at least one hmmer annotation 33138, e-value < 0.001\n",
      "Number of proteins annotated only in eggnog 1191\n",
      "Number of proteins annotated only in hmmsearch 9321\n",
      "Number of proteins with double annotation 23817\n"
     ]
    }
   ],
   "source": [
    "combine_annotations('Pdum')"
   ]
  },
  {
   "cell_type": "code",
   "execution_count": 150,
   "id": "c23130a6",
   "metadata": {},
   "outputs": [
    {
     "name": "stdout",
     "output_type": "stream",
     "text": [
      "Number of proteins annotated in eggnog 23720\n",
      "Number of proteins with at least one hmmer annotation 32259, e-value < 0.001\n",
      "Number of proteins annotated only in eggnog 1417\n",
      "Number of proteins annotated only in hmmsearch 9956\n",
      "Number of proteins with double annotation 22303\n"
     ]
    }
   ],
   "source": [
    "combine_annotations('Pele')"
   ]
  },
  {
   "cell_type": "code",
   "execution_count": null,
   "id": "ab65b5b2",
   "metadata": {},
   "outputs": [],
   "source": []
  }
 ],
 "metadata": {
  "kernelspec": {
   "display_name": "Python 3 (ipykernel)",
   "language": "python",
   "name": "python3"
  },
  "language_info": {
   "codemirror_mode": {
    "name": "ipython",
    "version": 3
   },
   "file_extension": ".py",
   "mimetype": "text/x-python",
   "name": "python",
   "nbconvert_exporter": "python",
   "pygments_lexer": "ipython3",
   "version": "3.9.13"
  }
 },
 "nbformat": 4,
 "nbformat_minor": 5
}
